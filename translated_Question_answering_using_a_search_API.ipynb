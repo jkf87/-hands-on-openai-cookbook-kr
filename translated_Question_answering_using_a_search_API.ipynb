{
 "cells": [
  {
   "attachments": {},
   "cell_type": "markdown",
   "metadata": {},
   "source": [
    "# 검색 API를 사용한 질문 답변 및 순위 재지정\n",
    "\n",
    "관련 정보를 검색하는 것은 때때로 건초 더미에서 바늘을 찾는 것처럼 느껴질 수 있지만, 절망하지 마세요. 실제로 GPT가 이러한 작업을 상당 부분 대신 수행할 수 있습니다. 이 가이드에서는 다양한 AI 기술로 기존 검색 시스템을 보강하여 노이즈를 걸러내는 데 도움이 되는 방법을 살펴봅니다.\n",
    "\n",
    "GPT로 정보를 검색하는 두 가지 방법이 있습니다:\n",
    "\n",
    "1. **인간 브라우징 모방: [GPT가 검색을 트리거하고](https://openai.com/blog/chatgpt-plugins#browsing) 결과를 평가한 후 필요한 경우 검색 쿼리를 수정합니다. 또한 특정 검색 결과를 추적하여 인간 사용자처럼 생각의 사슬을 형성할 수도 있습니다.\n",
    "2. **임베딩을 사용한 검색: 콘텐츠와 사용자 쿼리에 대한 [임베딩](https://platform.openai.com/docs/guides/embeddings)을 계산한 다음, 코사인 유사도로 측정한 결과 가장 관련성이 높은 [콘텐츠](Question_answering_using_embeddings.ipynb)를 [검색]합니다. 이 기법은 Google과 같은 검색 엔진에서 [많이 사용](https://blog.google/products/search/search-language-understanding-bert/)됩니다.\n",
    "\n",
    "이 두 가지 접근 방식은 모두 유망하지만 각각 단점이 있습니다. 첫 번째 접근 방식은 반복적인 특성으로 인해 속도가 느릴 수 있고, 두 번째 접근 방식은 전체 지식창고를 미리 임베딩하고 새로운 콘텐츠를 지속적으로 임베딩하며 벡터 데이터베이스를 유지 관리해야 한다는 단점이 있습니다.\n",
    "\n",
    "이러한 접근 방식을 결합하고 [리랭킹](https://www.sbert.net/examples/applications/retrieve_rerank/README.html) 방법에서 영감을 얻어 그 중간에 위치한 접근 방식을 찾아냈습니다. **이 접근 방식은 Slack 검색 API와 같은 기존 검색 시스템 또는 비공개 데이터가 있는 내부 ElasticSearch 인스턴스** 위에 구현할 수 있습니다. 작동 방식은 다음과 같습니다:\n",
    "\n",
    "![search_augmented_by_query_생성_및_임베딩_재랭크.png](../images/search_rank_answer.png)\n",
    "\n",
    "**1단계: 검색**\n",
    "\n",
    "1.  사용자가 질문을 합니다.\n",
    "2.  GPT가 잠재적 쿼리 목록을 생성합니다.\n",
    "3.  3. 검색 쿼리가 병렬로 실행됩니다.\n",
    "\n",
    "**2단계: 순위 재조정**\n",
    "\n",
    "1.  각 결과에 대한 임베딩을 사용하여 사용자 질문에 대해 생성된 가상의 이상적인 답변과 의미적 유사성을 계산합니다.\n",
    "2.  이 유사성 지표를 기준으로 결과의 순위가 매겨지고 필터링됩니다.\n",
    "\n",
    "**3단계: 답변**\n",
    "\n",
    "1.  상위 검색 결과가 주어지면 모델은 참조 및 링크를 포함하여 사용자의 질문에 대한 답변을 생성합니다.\n",
    "\n",
    "이 하이브리드 접근 방식은 상대적으로 짧은 지연 시간을 제공하며 벡터 데이터베이스를 유지 관리할 필요 없이 기존의 모든 검색 엔드포인트에 통합할 수 있습니다. 자세히 살펴보겠습니다! 검색할 도메인으로 [뉴스 API](https://newsapi.org/)를 예시로 사용하겠습니다.\n",
    "\n",
    "## 설정\n",
    "\n",
    "사용자 환경에는 `OPENAI_API_KEY` 외에 `NEWS_API_KEY`를 포함해야 합니다. API 키는 [여기](https://newsapi.org/)에서 얻을 수 있습니다.\n"
   ]
  },
  {
   "cell_type": "code",
   "execution_count": 1,
   "metadata": {},
   "outputs": [],
   "source": [
    "%%capture\n",
    "%env NEWS_API_KEY = YOUR_NEWS_API_KEY\n"
   ]
  },
  {
   "cell_type": "code",
   "execution_count": 2,
   "metadata": {},
   "outputs": [],
   "source": [
    "# Dependencies\n",
    "from datetime import date, timedelta  # date handling for fetching recent news\n",
    "from IPython import display  # for pretty printing\n",
    "import json  # for parsing the JSON api responses and model outputs\n",
    "from numpy import dot  # for cosine similarity\n",
    "import openai  # for using GPT and getting embeddings\n",
    "import os  # for loading environment variables\n",
    "import requests  # for making the API requests\n",
    "from tqdm.notebook import tqdm  # for printing progress bars\n",
    "\n",
    "# Load environment variables\n",
    "news_api_key = os.getenv(\"NEWS_API_KEY\")\n",
    "\n",
    "GPT_MODEL = \"gpt-3.5-turbo\"\n",
    "\n",
    "\n",
    "# Helper functions\n",
    "def json_gpt(input: str):\n",
    "    completion = openai.ChatCompletion.create(\n",
    "        model=GPT_MODEL,\n",
    "        messages=[\n",
    "            {\"role\": \"system\", \"content\": \"Output only valid JSON\"},\n",
    "            {\"role\": \"user\", \"content\": input},\n",
    "        ],\n",
    "        temperature=0.5,\n",
    "    )\n",
    "\n",
    "    text = completion.choices[0].message.content\n",
    "    parsed = json.loads(text)\n",
    "\n",
    "    return parsed\n",
    "\n",
    "\n",
    "def embeddings(input: list[str]) -> list[list[str]]:\n",
    "    response = openai.Embedding.create(model=\"text-embedding-ada-002\", input=input)\n",
    "    return [data.embedding for data in response.data]"
   ]
  },
  {
   "attachments": {},
   "cell_type": "markdown",
   "metadata": {},
   "source": [
    "## 1. 검색\n",
    "\n",
    "모든 것은 사용자 질문에서 시작됩니다.\n"
   ]
  },
  {
   "cell_type": "code",
   "execution_count": 3,
   "metadata": {},
   "outputs": [],
   "source": [
    "# User asks a question\n",
    "USER_QUESTION = \"Who won the NBA championship? And who was the MVP? Tell me a bit about the last game.\""
   ]
  },
  {
   "attachments": {},
   "cell_type": "markdown",
   "metadata": {},
   "source": [
    "이제 최대한 철저하게 하기 위해 모델을 사용하여 이 질문을 기반으로 다양한 쿼리 목록을 생성합니다.\n"
   ]
  },
  {
   "cell_type": "code",
   "execution_count": 4,
   "metadata": {},
   "outputs": [
    {
     "data": {
      "text/plain": [
       "['NBA championship winner',\n",
       " 'MVP of NBA championship',\n",
       " 'Last game of NBA championship',\n",
       " 'NBA finals winner',\n",
       " 'Most valuable player of NBA championship',\n",
       " 'Finals game of NBA',\n",
       " 'Who won the NBA finals',\n",
       " 'NBA championship game summary',\n",
       " 'NBA finals MVP',\n",
       " 'Champion of NBA playoffs',\n",
       " 'NBA finals last game highlights',\n",
       " 'NBA championship series result',\n",
       " 'NBA finals game score',\n",
       " 'NBA finals game recap',\n",
       " 'NBA champion team and player',\n",
       " 'NBA finals statistics',\n",
       " 'NBA championship final score',\n",
       " 'NBA finals best player',\n",
       " 'NBA playoffs champion and MVP',\n",
       " 'NBA finals game analysis',\n",
       " 'Who won the NBA championship? And who was the MVP? Tell me a bit about the last game.']"
      ]
     },
     "execution_count": 4,
     "metadata": {},
     "output_type": "execute_result"
    }
   ],
   "source": [
    "QUERIES_INPUT = f\"\"\"\n",
    "You have access to a search API that returns recent news articles.\n",
    "Generate an array of search queries that are relevant to this question.\n",
    "Use a variation of related keywords for the queries, trying to be as general as possible.\n",
    "Include as many queries as you can think of, including and excluding terms.\n",
    "For example, include queries like ['keyword_1 keyword_2', 'keyword_1', 'keyword_2'].\n",
    "Be creative. The more queries you include, the more likely you are to find relevant results.\n",
    "\n",
    "User question: {USER_QUESTION}\n",
    "\n",
    "Format: {{\"queries\": [\"query_1\", \"query_2\", \"query_3\"]}}\n",
    "\"\"\"\n",
    "\n",
    "queries = json_gpt(QUERIES_INPUT)[\"queries\"]\n",
    "\n",
    "# Let's include the original question as well for good measure\n",
    "queries.append(USER_QUESTION)\n",
    "\n",
    "queries"
   ]
  },
  {
   "attachments": {},
   "cell_type": "markdown",
   "metadata": {},
   "source": [
    "쿼리가 좋아 보이므로 검색을 실행해 보겠습니다.\n"
   ]
  },
  {
   "cell_type": "code",
   "execution_count": 5,
   "metadata": {},
   "outputs": [
    {
     "data": {
      "application/vnd.jupyter.widget-view+json": {
       "model_id": "6c750d6e5b2846b6834bad47ea5bef8b",
       "version_major": 2,
       "version_minor": 0
      },
      "text/plain": [
       "  0%|          | 0/21 [00:00<?, ?it/s]"
      ]
     },
     "metadata": {},
     "output_type": "display_data"
    },
    {
     "name": "stdout",
     "output_type": "stream",
     "text": [
      "Total number of articles: 554\n",
      "Top 5 articles of query 1: \n",
      "\n",
      "Title: Nascar takes on Le Mans as LeBron James gets centenary race under way\n",
      "Description: <ul><li>Nascar has presence at iconic race for first time since 1976</li><li>NBA superstar LeBron James waves flag as honorary starter</li></ul>The crowd chanted “U-S-A! U-S-A!” as Nascar driver lineup for the 24 Hours of Le Mans passed through the city cente…\n",
      "Content: The crowd chanted U-S-A! U-S-A! as Nascar driver lineup for the 24 Hours of Le Mans passed through t...\n",
      "\n",
      "Title: NBA finals predictions: Nuggets or Heat? Our writers share their picks\n",
      "Description: Denver or Miami? Our contributors pick the winner, key players and dark horses before the NBA’s grand finale tips offA lot has been made of the importance of a balanced roster with continuity, but, somehow, still not enough. The Nuggets are the prime example …\n",
      "Content: The Nuggets are here because \n",
      "A lot has been made of the importance of a balanced roster with conti...\n",
      "\n",
      "Title: Unboxing: Michelob ULTRA and Artist Futura Enshrine the NBA Championship In Custom Hand-Painted Bottles\n",
      "Description: As the 2022-2023 NBA Championship nears the end, Michelob ULTRA brings joy to sports fans who will gather to watch the showdown between the Denver Nuggets and Miami Heat. The beermaker teamed up with artist Futura to remix its newly-designed 2023 Champ Bottle…\n",
      "Content: As the 2022-2023 NBA Championship nears the end, Michelob ULTRA brings joy to sports fans who will g...\n",
      "\n",
      "Title: Futura and Michelob ULTRA Toast to the NBA Finals With Abstract Artwork Crafted From the Brand’s 2023 Limited-Edition Championship Bottles\n",
      "Description: The sun is out to play, and so is Michelob ULTRA. With the 2022-2023 NBA Finals underway, the beermaker is back with its celebratory NBA Champ Bottles. This year, the self-proclaimed MVP of joy is dropping a limited-edition bottle made in collaboration with a…\n",
      "Content: The sun is out to play, and so is Michelob ULTRA. With the 2022-2023 NBA Finals underway, the beerma...\n",
      "\n",
      "Title: Signed and Delivered, Futura and Michelob ULTRA Will Gift Hand-Painted Bottles to This Year’s NBA Championship Team\n",
      "Description: Michelob ULTRA, the MVP of joy and official beer sponsor of the NBA is back to celebrate with basketball lovers and sports fans around the globe as the NBA 2022-2023 season comes to a nail-biting close. In collaboration with artist Futura, Michelob ULTRA will…\n",
      "Content: Michelob ULTRA, the MVP of joy and official beer sponsor of the NBA is back to celebrate with basket...\n",
      "\n"
     ]
    }
   ],
   "source": [
    "def search_news(\n",
    "    query: str,\n",
    "    news_api_key: str = news_api_key,\n",
    "    num_articles: int = 50,\n",
    "    from_datetime: str = \"2023-06-01\",  # the 2023 NBA finals were played in June 2023\n",
    "    to_datetime: str = \"2023-06-30\",\n",
    ") -> dict:\n",
    "    response = requests.get(\n",
    "        \"https://newsapi.org/v2/everything\",\n",
    "        params={\n",
    "            \"q\": query,\n",
    "            \"apiKey\": news_api_key,\n",
    "            \"pageSize\": num_articles,\n",
    "            \"sortBy\": \"relevancy\",\n",
    "            \"from\": from_datetime,\n",
    "            \"to\": to_datetime,\n",
    "        },\n",
    "    )\n",
    "\n",
    "    return response.json()\n",
    "\n",
    "\n",
    "articles = []\n",
    "\n",
    "for query in tqdm(queries):\n",
    "    result = search_news(query)\n",
    "    if result[\"status\"] == \"ok\":\n",
    "        articles = articles + result[\"articles\"]\n",
    "    else:\n",
    "        raise Exception(result[\"message\"])\n",
    "\n",
    "# remove duplicates\n",
    "articles = list({article[\"url\"]: article for article in articles}.values())\n",
    "\n",
    "print(\"Total number of articles:\", len(articles))\n",
    "print(\"Top 5 articles of query 1:\", \"\\n\")\n",
    "\n",
    "for article in articles[0:5]:\n",
    "    print(\"Title:\", article[\"title\"])\n",
    "    print(\"Description:\", article[\"description\"])\n",
    "    print(\"Content:\", article[\"content\"][0:100] + \"...\")\n",
    "    print()\n"
   ]
  },
  {
   "attachments": {},
   "cell_type": "markdown",
   "metadata": {},
   "source": [
    "보시다시피, 검색 쿼리는 종종 많은 수의 결과를 반환하며, 이 중 상당수는 사용자가 원래 질문한 내용과 관련이 없는 경우가 많습니다. 최종 답변의 품질을 개선하기 위해 임베딩을 사용하여 결과의 순위를 다시 정하고 필터링합니다.\n",
    "\n",
    "## 2. 순위 재조정\n",
    "\n",
    "HyDE(Gao et al.)](https://arxiv.org/abs/2212.10496)에서 영감을 얻어, 먼저 가상의 이상적인 답변을 생성하여 결과 비교의 순위를 다시 매깁니다. 이렇게 하면 질문과 유사한 결과보다는 좋은 답변처럼 보이는 결과의 우선순위를 정하는 데 도움이 됩니다. 다음은 가상의 답변을 생성하는 데 사용하는 프롬프트입니다.\n"
   ]
  },
  {
   "cell_type": "code",
   "execution_count": 6,
   "metadata": {},
   "outputs": [
    {
     "data": {
      "text/plain": [
       "'The NBA championship was won by TEAM NAME. The MVP was awarded to PLAYER NAME. The last game was held at STADIUM NAME, where both teams played with great energy and enthusiasm. It was a close game, but in the end, TEAM NAME emerged victorious.'"
      ]
     },
     "execution_count": 6,
     "metadata": {},
     "output_type": "execute_result"
    }
   ],
   "source": [
    "HA_INPUT = f\"\"\"\n",
    "Generate a hypothetical answer to the user's question. This answer will be used to rank search results. \n",
    "Pretend you have all the information you need to answer, but don't use any actual facts. Instead, use placeholders\n",
    "like NAME did something, or NAME said something at PLACE. \n",
    "\n",
    "User question: {USER_QUESTION}\n",
    "\n",
    "Format: {{\"hypotheticalAnswer\": \"hypothetical answer text\"}}\n",
    "\"\"\"\n",
    "\n",
    "hypothetical_answer = json_gpt(HA_INPUT)[\"hypotheticalAnswer\"]\n",
    "\n",
    "hypothetical_answer\n"
   ]
  },
  {
   "attachments": {},
   "cell_type": "markdown",
   "metadata": {},
   "source": [
    "이제 검색 결과와 가상의 답변에 대한 임베딩을 생성해 보겠습니다. 그런 다음 이러한 임베딩 간의 코사인 거리를 계산하여 의미적 유사성 지표를 제공합니다. OpenAI 임베딩은 API에서 정규화된 상태로 반환되므로 전체 코사인 유사도 계산을 수행하는 대신 도트 곱을 간단히 계산할 수 있습니다.\n"
   ]
  },
  {
   "cell_type": "code",
   "execution_count": 7,
   "metadata": {},
   "outputs": [
    {
     "data": {
      "text/plain": [
       "[0.7854456526852069,\n",
       " 0.8086023500072106,\n",
       " 0.8002998147018501,\n",
       " 0.7961229569526956,\n",
       " 0.798354506673743,\n",
       " 0.758216458795653,\n",
       " 0.7753754083127359,\n",
       " 0.7494958338411927,\n",
       " 0.804733946801739,\n",
       " 0.8405965885235218]"
      ]
     },
     "execution_count": 7,
     "metadata": {},
     "output_type": "execute_result"
    }
   ],
   "source": [
    "hypothetical_answer_embedding = embeddings(hypothetical_answer)[0]\n",
    "article_embeddings = embeddings(\n",
    "    [\n",
    "        f\"{article['title']} {article['description']} {article['content'][0:100]}\"\n",
    "        for article in articles\n",
    "    ]\n",
    ")\n",
    "\n",
    "# Calculate cosine similarity\n",
    "cosine_similarities = []\n",
    "for article_embedding in article_embeddings:\n",
    "    cosine_similarities.append(dot(hypothetical_answer_embedding, article_embedding))\n",
    "\n",
    "cosine_similarities[0:10]\n"
   ]
  },
  {
   "attachments": {},
   "cell_type": "markdown",
   "metadata": {},
   "source": [
    "마지막으로 이러한 유사성 점수를 사용하여 결과를 정렬하고 필터링합니다.\n"
   ]
  },
  {
   "cell_type": "code",
   "execution_count": 8,
   "metadata": {},
   "outputs": [
    {
     "name": "stdout",
     "output_type": "stream",
     "text": [
      "Top 5 articles: \n",
      "\n",
      "Title: NBA Finals: Denver Nuggets beat Miami Hea, lift thier first-ever NBA title\n",
      "Description: Denver Nuggets won their maiden NBA Championship trophy defeating Miami Heat 94-89 in Game 5 of the NBA Final held on Tuesday at the Ball Arena in Denver\n",
      "Content: Denver Nuggets won their maiden NBA Championship trophy defeating Miami Heat 94-89 in Game 5 of the ...\n",
      "Score: 0.8445817523602124\n",
      "\n",
      "Title: Photos: Denver Nuggets celebrate their first NBA title\n",
      "Description: The Nuggets capped off an impressive postseason by beating the Miami Heat in the NBA Finals.\n",
      "Content: Thousands of supporters watched along the streets of Denver, Colorado as the US National Basketball ...\n",
      "Score: 0.842070667753606\n",
      "\n",
      "Title: Denver Nuggets win first NBA championship title in Game 5 victory over Miami Heat\n",
      "Description: The Denver Nuggets won their first NBA championship Monday night, downing the Miami Heat 94-89 at Ball Arena in Denver to take Game 5 of the NBA Finals.\n",
      "Content: The Denver Nuggets won their first NBA championship Monday night, downing the Miami Heat 94-89 at Ba...\n",
      "Score: 0.8409346078172385\n",
      "\n",
      "Title: Denver Nuggets Capture Their First NBA Championship Behind Unbreakable Chemistry\n",
      "Description: After 47 years of waiting, the Denver Nuggets are NBA champions. Led by Nikola Jokic and Jamal Murray, they reached the mountain top by staying true to themselves.\n",
      "Content: DENVER, CO - JUNE 12: Jamal Murray (27) of the Denver Nuggets celebrates as he leaves the court ... ...\n",
      "Score: 0.8405965885235218\n",
      "\n",
      "Title: NBA Finals: Nikola Jokic, Denver Nuggets survive Miami Heat to secure franchise's first NBA championship\n",
      "Description: In a rock-fight of a Game 5, the Denver Nuggets reached the NBA mountaintop from the foothills of the Rockies, winning their first-ever championship and setting Nikola Jokic's legacy as an all-timer in stone.\n",
      "Content: DENVER, COLORADO - JUNE 12: Jamal Murray #27 of the Denver Nuggets reacts during the fourth quarter ...\n",
      "Score: 0.8389716330890262\n",
      "\n"
     ]
    }
   ],
   "source": [
    "scored_articles = zip(articles, cosine_similarities)\n",
    "\n",
    "# Sort articles by cosine similarity\n",
    "sorted_articles = sorted(scored_articles, key=lambda x: x[1], reverse=True)\n",
    "\n",
    "# Print top 5 articles\n",
    "print(\"Top 5 articles:\", \"\\n\")\n",
    "\n",
    "for article, score in sorted_articles[0:5]:\n",
    "    print(\"Title:\", article[\"title\"])\n",
    "    print(\"Description:\", article[\"description\"])\n",
    "    print(\"Content:\", article[\"content\"][0:100] + \"...\")\n",
    "    print(\"Score:\", score)\n",
    "    print()\n"
   ]
  },
  {
   "attachments": {},
   "cell_type": "markdown",
   "metadata": {},
   "source": [
    "멋지네요! 이 결과는 원래 쿼리와 훨씬 더 관련성이 높아 보입니다. 이제 상위 5개 결과를 사용하여 최종 답변을 생성해 보겠습니다.\n",
    "\n",
    "## 3. Answer\n"
   ]
  },
  {
   "cell_type": "code",
   "execution_count": 9,
   "metadata": {},
   "outputs": [
    {
     "data": {
      "text/markdown": [
       "The Denver Nuggets won their first-ever NBA championship by defeating the Miami Heat 94-89 in Game 5 of the NBA Finals held on Tuesday at the Ball Arena in Denver, according to this [Business Standard article](https://www.business-standard.com/sports/other-sports-news/nba-finals-denver-nuggets-beat-miami-hea-lift-thier-first-ever-nba-title-123061300285_1.html). Nikola Jokic, the Nuggets' center, was named the NBA Finals MVP. In a rock-fight of a Game 5, the Nuggets reached the NBA mountaintop, securing their franchise's first NBA championship and setting Nikola Jokic's legacy as an all-timer in stone, according to this [Yahoo Sports article](https://sports.yahoo.com/nba-finals-nikola-jokic-denver-nuggets-survive-miami-heat-to-secure-franchises-first-nba-championship-030321214.html). For more information and photos of the Nuggets' celebration, check out this [Al Jazeera article](https://www.aljazeera.com/gallery/2023/6/15/photos-denver-nuggets-celebrate-their-first-nba-title) and this [CNN article](https://www.cnn.com/2023/06/12/sport/denver-nuggets-nba-championship-spt-intl?cid=external-feeds_iluminar_yahoo)."
      ],
      "text/plain": [
       "<IPython.core.display.Markdown object>"
      ]
     },
     "metadata": {},
     "output_type": "display_data"
    }
   ],
   "source": [
    "formatted_top_results = [\n",
    "    {\n",
    "        \"title\": article[\"title\"],\n",
    "        \"description\": article[\"description\"],\n",
    "        \"url\": article[\"url\"],\n",
    "    }\n",
    "    for article, _score in sorted_articles[0:5]\n",
    "]\n",
    "\n",
    "ANSWER_INPUT = f\"\"\"\n",
    "Generate an answer to the user's question based on the given search results. \n",
    "TOP_RESULTS: {formatted_top_results}\n",
    "USER_QUESTION: {USER_QUESTION}\n",
    "\n",
    "Include as much information as possible in the answer. Reference the relevant search result urls as markdown links.\n",
    "\"\"\"\n",
    "\n",
    "completion = openai.ChatCompletion.create(\n",
    "    model=GPT_MODEL,\n",
    "    messages=[{\"role\": \"user\", \"content\": ANSWER_INPUT}],\n",
    "    temperature=0.5,\n",
    "    stream=True,\n",
    ")\n",
    "\n",
    "text = \"\"\n",
    "for chunk in completion:\n",
    "    text += chunk.choices[0].delta.get(\"content\", \"\")\n",
    "    display.clear_output(wait=True)\n",
    "    display.display(display.Markdown(text))"
   ]
  }
 ],
 "metadata": {
  "kernelspec": {
   "display_name": "Python 3",
   "language": "python",
   "name": "python3"
  },
  "language_info": {
   "codemirror_mode": {
    "name": "ipython",
    "version": 3
   },
   "file_extension": ".py",
   "mimetype": "text/x-python",
   "name": "python",
   "nbconvert_exporter": "python",
   "pygments_lexer": "ipython3",
   "version": "3.11.0"
  }
 },
 "nbformat": 4,
 "nbformat_minor": 2
}
