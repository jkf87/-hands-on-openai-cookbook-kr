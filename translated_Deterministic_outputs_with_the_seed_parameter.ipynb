{
 "cells": [
  {
   "cell_type": "markdown",
   "metadata": {
    "cell_id": "67bb097e130b41099c9d257dc06a4054",
    "deepnote_cell_type": "markdown"
   },
   "source": [
    "# 완료 출력을 새로운 시드 매개변수와 일관되게 만드는 방법\n",
    "\n",
    "**요약**: 이제 개발자는 일관된 완료를 위해 채팅 완료 요청에 `seed` 매개 변수를 지정할 수 있습니다. 개발자가 결정론에 영향을 줄 수 있는 시스템의 변경 사항을 이해하는 데 도움이 되도록 항상 응답에 `system_fingerprint`를 포함합니다.\n",
    "\n",
    "### 컨텍스트\n",
    "\n",
    "결정론은 항상 사용자 커뮤니티에서 저희 API를 사용할 때 큰 요청이었습니다. 예를 들어, 결정론적 수치 결과를 얻을 수 있는 기능이 부여되면 사용자는 수치 변화에 민감한 사용 사례의 상당수를 잠금 해제할 수 있습니다.\n",
    "\n",
    "#### 일관된 출력을 위한 모델 수준 기능\n",
    "\n",
    "채팅 완료 및 완료 API는 기본적으로 비결정적(즉, 모델 결과가 요청마다 다를 수 있음)이지만 이제 몇 가지 모델 수준 컨트롤을 사용하여 결정적 결과를 일부 제어할 수 있습니다.\n",
    "\n",
    "이렇게 하면 일관된 완성을 통해 API 위에 구축된 모든 것에 대한 모델 동작을 완벽하게 제어할 수 있으며, 결과를 재현하고 테스트하는 데 매우 유용하므로 정확히 어떤 결과를 얻을 수 있는지 알 수 있어 안심할 수 있습니다.\n",
    "\n",
    "#### 일관된 출력 구현하기\n",
    "\n",
    "API 호출 전반에 걸쳐 _거의_ 결정론적 출력을 받으려면:\n",
    "\n",
    "- seed` 매개변수를 원하는 정수로 설정하되, 모든 요청에서 동일한 값을 사용하세요. 예: `12345`.\n",
    "- 다른 모든 매개변수(프롬프트, 온도, top_p 등)는 요청 전체에서 동일한 값으로 설정합니다.\n",
    "- 응답에서 `system_fingerprint` 필드를 확인합니다. 시스템 지문은 OpenAI 서버가 완성을 생성하는 데 사용하는 모델 가중치, 인프라 및 기타 구성 옵션의 현재 조합에 대한 식별자입니다. 요청 매개변수를 변경하거나 OpenAI가 모델을 제공하는 인프라의 수치 구성을 업데이트할 때마다 변경됩니다(1년에 몇 번씩 발생할 수 있음).\n",
    "\n",
    "시드`, 요청 매개변수, `시스템_지문`이 요청 전반에 걸쳐 모두 일치한다면 모델 출력은 대부분 동일할 것입니다. 컴퓨터의 고유한 비결정성으로 인해 요청 매개변수와 `system_fingerprint`가 일치하더라도 응답이 다를 가능성은 적습니다.\n"
   ]
  },
  {
   "cell_type": "markdown",
   "metadata": {
    "cell_id": "f49611fa59af4303883d76c491095fea",
    "deepnote_cell_type": "markdown"
   },
   "source": [
    "### 일관된 출력을 위한 모델 레벨 컨트롤 - `seed` 및 `system_fingerprint`\n",
    "\n",
    "##### `seed`\n",
    "\n",
    "이 값을 지정하면 시스템은 결정론적으로 샘플링하기 위해 최선을 다하므로 동일한 시드와 매개변수로 반복 요청하면 동일한 결과가 반환되어야 합니다. 결정론은 보장되지 않으며, 백엔드의 변경 사항을 모니터링하려면 `system_fingerprint` 응답 파라미터를 참조해야 합니다.\n",
    "\n",
    "##### `system_fingerprint`\n",
    "\n",
    "이 핑거프린트는 모델이 실행되는 백엔드 구성을 나타냅니다. 시드 요청 매개변수와 함께 사용하여 결정론에 영향을 줄 수 있는 백엔드 변경이 언제 이루어졌는지 파악할 수 있으며, 이는 사용자가 \"거의 항상 동일한 결과\"를 기대해야 하는지에 대한 지표가 됩니다.\n"
   ]
  },
  {
   "cell_type": "markdown",
   "metadata": {
    "cell_id": "cc6cd37b9a2243aaa4688ef8832512eb",
    "deepnote_cell_type": "markdown"
   },
   "source": [
    "## 예시: 고정 시드를 사용하여 일관된 단편 스토리 생성하기\n",
    "\n",
    "이 예에서는 고정 시드를 사용하여 일관된 짧은 스토리를 생성하는 방법을 보여드리겠습니다. 이 방법은 테스트, 디버깅 또는 일관된 출력이 필요한 애플리케이션을 위해 동일한 결과를 재현해야 하는 시나리오에서 특히 유용할 수 있습니다.\n"
   ]
  },
  {
   "cell_type": "code",
   "execution_count": null,
   "metadata": {
    "cell_id": "48fd2d4c95ad465090ef97254a4a10d2",
    "deepnote_cell_type": "code"
   },
   "outputs": [],
   "source": [
    "import asyncio\n",
    "import openai\n",
    "import pprint\n",
    "import difflib\n",
    "from IPython.display import display, HTML\n",
    "\n",
    "GPT_MODEL = \"gpt-3.5-turbo-1106\"\n",
    "openai.api_key = \"\" # openai api 키 넣으세요"
   ]
  },
  {
   "cell_type": "code",
   "execution_count": null,
   "metadata": {
    "cell_id": "e54e0958be3746d39b6e4c16c59b395a",
    "deepnote_cell_type": "code",
    "deepnote_to_be_reexecuted": false,
    "execution_millis": 5,
    "execution_start": 1699034108287,
    "source_hash": null
   },
   "outputs": [],
   "source": [
    "async def get_chat_response(system_message: str, user_request: str, seed: int = None):\n",
    "    try:\n",
    "        messages = [\n",
    "            {\"role\": \"system\", \"content\": system_message},\n",
    "            {\"role\": \"user\", \"content\": user_request},\n",
    "        ]\n",
    "\n",
    "        response = openai.ChatCompletion.create(\n",
    "            model=GPT_MODEL,\n",
    "            messages=messages,\n",
    "            seed=seed,\n",
    "            max_tokens=200,\n",
    "            temperature=0.7,\n",
    "        )\n",
    "\n",
    "        response_content = response[\"choices\"][0][\"message\"][\"content\"]\n",
    "        system_fingerprint = response[\"system_fingerprint\"] ## gpt-3.5-turbo-1106에서만 먹는것 같습니다.\n",
    "        prompt_tokens = response[\"usage\"][\"prompt_tokens\"]\n",
    "        completion_tokens = (\n",
    "            response[\"usage\"][\"total_tokens\"] - response[\"usage\"][\"prompt_tokens\"]\n",
    "        )\n",
    "\n",
    "        table = f\"\"\"\n",
    "        <table>\n",
    "        <tr><th>Response</th><td>{response_content}</td></tr>\n",
    "        <tr><th>System Fingerprint</th><td>{system_fingerprint}</td></tr>\n",
    "        <tr><th>Number of prompt tokens</th><td>{prompt_tokens}</td></tr>\n",
    "        <tr><th>Number of completion tokens</th><td>{completion_tokens}</td></tr>\n",
    "        </table>\n",
    "        \"\"\"\n",
    "        display(HTML(table))\n",
    "\n",
    "        return response_content\n",
    "    except Exception as e:\n",
    "        print(f\"An error occurred: {e}\")\n",
    "        return None\n",
    "\n",
    "\n",
    "# 출력 테이블 두개 비교할라고 만든 펑션이라 성능과는 상관없습니다.\n",
    "\n",
    "def compare_responses(previous_response: str, response: str):\n",
    "    d = difflib.Differ()\n",
    "    diff = d.compare(previous_response.splitlines(), response.splitlines())\n",
    "\n",
    "    diff_table = \"<table>\"\n",
    "    diff_exists = False\n",
    "\n",
    "    for line in diff:\n",
    "        if line.startswith(\"- \"):\n",
    "            diff_table += f\"<tr style='color: red;'><td>{line}</td></tr>\"\n",
    "            diff_exists = True\n",
    "        elif line.startswith(\"+ \"):\n",
    "            diff_table += f\"<tr style='color: green;'><td>{line}</td></tr>\"\n",
    "            diff_exists = True\n",
    "        else:\n",
    "            diff_table += f\"<tr><td>{line}</td></tr>\"\n",
    "\n",
    "    diff_table += \"</table>\"\n",
    "\n",
    "    if diff_exists:\n",
    "        display(HTML(diff_table))\n",
    "    else:\n",
    "        print(\"No differences found.\")"
   ]
  },
  {
   "cell_type": "markdown",
   "metadata": {
    "cell_id": "dfa39a438aa948cc910a46254df937af",
    "deepnote_cell_type": "text-cell-p",
    "formattedRanges": []
   },
   "source": [
    "먼저 'seed` 매개 변수 없이 '화성으로의 여행'에 대한 짧은 스토리를 생성해 보겠습니다. 이것이 기본 동작입니다:\n"
   ]
  },
  {
   "cell_type": "code",
   "execution_count": null,
   "metadata": {
    "cell_id": "9d09f63309c449e4929364caccfd7065",
    "deepnote_cell_type": "code",
    "deepnote_to_be_reexecuted": false,
    "execution_millis": 964,
    "execution_start": 1699034108745,
    "source_hash": null
   },
   "outputs": [
    {
     "data": {
      "text/html": [
       "\n",
       "        <table>\n",
       "        <tr><th>Response</th><td>In the year 2050, a team of courageous astronauts embarked on a groundbreaking mission to Mars. The journey was filled with uncertainty and danger, but the crew was undeterred by the challenges that lay ahead.\n",
       "\n",
       "As their spacecraft hurtled through the vast expanse of space, the astronauts marveled at the beauty of the stars and the distant planets. They passed the time by conducting experiments, training for the mission ahead, and bonding with one another.\n",
       "\n",
       "After months of travel, the red planet finally came into view. The crew prepared for the landing, their hearts pounding with a mix of excitement and nervous anticipation. As the spacecraft touched down on the Martian surface, cheers erupted in the control room back on Earth.\n",
       "\n",
       "The astronauts stepped out onto the alien terrain, taking in the breathtaking landscape of rusty red rocks and dusty plains. They set up their base camp and began their scientific research, collecting samples and conducting experiments to better understand the planet's composition and potential for sustaining life.\n",
       "\n",
       "Despite the challenges of living</td></tr>\n",
       "        <tr><th>System Fingerprint</th><td>fp_fefa7b2153</td></tr>\n",
       "        <tr><th>Number of prompt tokens</th><td>31</td></tr>\n",
       "        <tr><th>Number of completion tokens</th><td>200</td></tr>\n",
       "        </table>\n",
       "        "
      ],
      "text/plain": [
       "<IPython.core.display.HTML object>"
      ]
     },
     "metadata": {},
     "output_type": "display_data"
    },
    {
     "data": {
      "text/html": [
       "\n",
       "        <table>\n",
       "        <tr><th>Response</th><td>In the year 2050, a team of astronauts set out on a groundbreaking mission to Mars. The journey was long and arduous, but the crew was determined to make history. As they approached the red planet, they marveled at its otherworldly beauty and the sense of awe and wonder filled their hearts.\n",
       "\n",
       "Upon landing, the astronauts began to explore the alien landscape, conducting scientific experiments and collecting samples. They were amazed by the vast canyons, towering mountains, and the eerie silence that surrounded them. Each step they took was a giant leap for humankind, and they felt a profound sense of accomplishment.\n",
       "\n",
       "As they prepared to return to Earth, the astronauts reflected on the significance of their journey. They knew that their discoveries would pave the way for future generations to explore and inhabit Mars. With their mission complete, they boarded their spacecraft and set their sights on the distant blue planet in the sky, knowing that they had left their mark on the history of space exploration.</td></tr>\n",
       "        <tr><th>System Fingerprint</th><td>fp_fefa7b2153</td></tr>\n",
       "        <tr><th>Number of prompt tokens</th><td>31</td></tr>\n",
       "        <tr><th>Number of completion tokens</th><td>198</td></tr>\n",
       "        </table>\n",
       "        "
      ],
      "text/plain": [
       "<IPython.core.display.HTML object>"
      ]
     },
     "metadata": {},
     "output_type": "display_data"
    },
    {
     "data": {
      "text/html": [
       "<table><tr style='color: red;'><td>- In the year 2050, a team of courageous astronauts embarked on a groundbreaking mission to Mars. The journey was filled with uncertainty and danger, but the crew was undeterred by the challenges that lay ahead.</td></tr><tr style='color: green;'><td>+ In the year 2050, a team of astronauts set out on a groundbreaking mission to Mars. The journey was long and arduous, but the crew was determined to make history. As they approached the red planet, they marveled at its otherworldly beauty and the sense of awe and wonder filled their hearts.</td></tr><tr><td>  </td></tr><tr style='color: red;'><td>- As their spacecraft hurtled through the vast expanse of space, the astronauts marveled at the beauty of the stars and the distant planets. They passed the time by conducting experiments, training for the mission ahead, and bonding with one another.</td></tr><tr style='color: green;'><td>+ Upon landing, the astronauts began to explore the alien landscape, conducting scientific experiments and collecting samples. They were amazed by the vast canyons, towering mountains, and the eerie silence that surrounded them. Each step they took was a giant leap for humankind, and they felt a profound sense of accomplishment.</td></tr><tr><td>  </td></tr><tr style='color: green;'><td>+ As they prepared to return to Earth, the astronauts reflected on the significance of their journey. They knew that their discoveries would pave the way for future generations to explore and inhabit Mars. With their mission complete, they boarded their spacecraft and set their sights on the distant blue planet in the sky, knowing that they had left their mark on the history of space exploration.</td></tr><tr style='color: red;'><td>- After months of travel, the red planet finally came into view. The crew prepared for the landing, their hearts pounding with a mix of excitement and nervous anticipation. As the spacecraft touched down on the Martian surface, cheers erupted in the control room back on Earth.</td></tr><tr style='color: red;'><td>- </td></tr><tr style='color: red;'><td>- The astronauts stepped out onto the alien terrain, taking in the breathtaking landscape of rusty red rocks and dusty plains. They set up their base camp and began their scientific research, collecting samples and conducting experiments to better understand the planet's composition and potential for sustaining life.</td></tr><tr style='color: red;'><td>- </td></tr><tr style='color: red;'><td>- Despite the challenges of living</td></tr></table>"
      ],
      "text/plain": [
       "<IPython.core.display.HTML object>"
      ]
     },
     "metadata": {},
     "output_type": "display_data"
    }
   ],
   "source": [
    "#프롬프트 만드는 부분 ( 변경하셔도 됩니다. 토픽이랑 유저리퀘스트 묶어서 들어갑니다.)\n",
    "\n",
    "topic = \"a journey to Mars\"\n",
    "system_message = \"You are a helpful assistant that generates short stories.\"\n",
    "user_request = f\"Generate a short story about {topic}.\"\n",
    "\n",
    "previous_response = await get_chat_response(\n",
    "    system_message=system_message, user_request=user_request\n",
    ")\n",
    "\n",
    "response = await get_chat_response(\n",
    "    system_message=system_message, user_request=user_request\n",
    ")\n",
    "\n",
    "# 출력 비교\n",
    "compare_responses(previous_response, response)"
   ]
  },
  {
   "cell_type": "markdown",
   "metadata": {
    "cell_id": "e7eaf30e13ac4841b11dcffc505379c1",
    "deepnote_cell_type": "markdown"
   },
   "source": [
    "이제 동일한 주제(화성으로의 여행)의 단편 스토리를 상수 'seed'가 123인 상태로 생성하고 응답과 'system_fingerprint'를 비교해 보겠습니다.\n"
   ]
  },
  {
   "cell_type": "code",
   "execution_count": null,
   "metadata": {
    "cell_id": "a5754b8ef4074cf7adb479d44bebd97b",
    "deepnote_cell_type": "code"
   },
   "outputs": [
    {
     "data": {
      "text/html": [
       "\n",
       "        <table>\n",
       "        <tr><th>Response</th><td>In the not-so-distant future, a team of brave astronauts embarked on a groundbreaking journey to Mars. The spacecraft, named \"Odyssey,\" soared through the vast expanse of space, leaving Earth behind as they ventured toward the mysterious red planet.\n",
       "\n",
       "As the crew navigated through the cosmos, they encountered a series of challenges and obstacles, from intense solar flares to treacherous asteroid fields. However, their unwavering determination and spirit of camaraderie propelled them forward, overcoming each hurdle with courage and resilience.\n",
       "\n",
       "Upon reaching Mars, the astronauts were greeted by a breathtaking landscape of rust-colored deserts and towering canyons. They marveled at the alien terrain, conducting scientific experiments and collecting samples to better understand the planet's enigmatic history.\n",
       "\n",
       "Amidst their exploration, the crew faced unexpected setbacks, including a sudden dust storm that threatened their safety. Yet, they stood united, devising ingenious solutions and supporting each other through the adversity.\n",
       "\n",
       "After a successful mission on Mars, the</td></tr>\n",
       "        <tr><th>System Fingerprint</th><td>fp_fefa7b2153</td></tr>\n",
       "        <tr><th>Number of prompt tokens</th><td>31</td></tr>\n",
       "        <tr><th>Number of completion tokens</th><td>200</td></tr>\n",
       "        </table>\n",
       "        "
      ],
      "text/plain": [
       "<IPython.core.display.HTML object>"
      ]
     },
     "metadata": {},
     "output_type": "display_data"
    },
    {
     "data": {
      "text/html": [
       "\n",
       "        <table>\n",
       "        <tr><th>Response</th><td>In the not-so-distant future, a team of brave astronauts embarked on a groundbreaking journey to Mars. The spacecraft, named \"Odyssey,\" soared through the vast expanse of space, leaving Earth behind as they ventured toward the mysterious red planet.\n",
       "\n",
       "As the crew navigated through the cosmos, they encountered a series of challenges and obstacles, from intense solar flares to treacherous asteroid fields. However, their unwavering determination and spirit of camaraderie propelled them forward, overcoming each hurdle with courage and resilience.\n",
       "\n",
       "Upon reaching Mars, the astronauts were greeted by a breathtaking landscape of rust-colored deserts and towering canyons. They marveled at the alien terrain, conducting scientific experiments and collecting samples to better understand the planet's enigmatic history.\n",
       "\n",
       "Amidst their exploration, the crew faced unexpected setbacks, including a sudden dust storm that threatened their safety. Yet, they stood united, devising ingenious solutions and supporting each other through the adversity.\n",
       "\n",
       "After a successful mission on Mars, the</td></tr>\n",
       "        <tr><th>System Fingerprint</th><td>fp_fefa7b2153</td></tr>\n",
       "        <tr><th>Number of prompt tokens</th><td>31</td></tr>\n",
       "        <tr><th>Number of completion tokens</th><td>200</td></tr>\n",
       "        </table>\n",
       "        "
      ],
      "text/plain": [
       "<IPython.core.display.HTML object>"
      ]
     },
     "metadata": {},
     "output_type": "display_data"
    },
    {
     "name": "stdout",
     "output_type": "stream",
     "text": [
      "No differences found.\n"
     ]
    }
   ],
   "source": [
    "SEED = 123 ## 시드는 총 9e+18 개 까지 가능 \n",
    "\n",
    "response = await get_chat_response(\n",
    "    system_message=system_message, seed=SEED, user_request=user_request\n",
    ")\n",
    "previous_response = response\n",
    "response = await get_chat_response(\n",
    "    system_message=system_message, seed=SEED, user_request=user_request\n",
    ")\n",
    "\n",
    "compare_responses(previous_response, response)"
   ]
  },
  {
   "cell_type": "markdown",
   "metadata": {
    "cell_id": "f6c8ae9a6e29451baaeb52b7203fbea8",
    "deepnote_cell_type": "markdown"
   },
   "source": [
    "결론 ## 결론\n",
    "\n",
    "고정 정수 '시드'를 사용하여 모델에서 일관된 출력을 생성하는 방법을 보여드렸는데, 이는 재현성이 중요한 시나리오에서 특히 유용합니다. 그러나 '시드'가 일관성을 보장하지만 출력의 품질을 보장하지는 않는다는 점에 유의해야 합니다. 예를 들어, 제공된 예제에서는 동일한 시드를 사용하여 화성으로의 여행에 대한 짧은 스토리를 생성했습니다. 모델을 여러 번 쿼리했음에도 불구하고 출력은 일관성을 유지하여 재현성을 위해 이 모델 수준 제어를 사용하는 것이 효과적이라는 것을 보여주었습니다. 이를 확장하여 다른 프롬프트나 모델의 성능을 벤치마킹/평가할 때 일관된 '시드'를 사용하면 각 버전이 동일한 조건에서 평가되어 비교가 공정하고 결과를 신뢰할 수 있습니다.\n",
    "\n",
    "추가 결론\n",
    "한국어는 영어처럼 잘 안됩니다. 200자 내외에서도 아직은 만족할만한 시드 고정은 어려웠습니다. 처음 두~세문장 정도는 동일한 출력을 기대해 볼 수 있습니다.\n",
    "매개변수(프롬프트, 온도, top_p 등)는 가능하면 기본값 (0.7, 200)을 권장합니다. 토큰이 길어지거나 자유도를 변경했을때 영어 출력도 흔들리는 것을 볼 수 있었습니다.\n"
   ]
  }
 ],
 "metadata": {
  "deepnote": {},
  "deepnote_execution_queue": [],
  "deepnote_notebook_id": "90ee66ed8ee74f0dad849c869f1da806",
  "kernelspec": {
   "display_name": "Python 3",
   "language": "python",
   "name": "python3"
  },
  "language_info": {
   "codemirror_mode": {
    "name": "ipython",
    "version": 3
   },
   "file_extension": ".py",
   "mimetype": "text/x-python",
   "name": "python",
   "nbconvert_exporter": "python",
   "pygments_lexer": "ipython3",
   "version": "3.9.13"
  }
 },
 "nbformat": 4,
 "nbformat_minor": 0
}
