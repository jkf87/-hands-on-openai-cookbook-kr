{
 "cells": [
  {
   "cell_type": "code",
   "execution_count": 1,
   "metadata": {},
   "outputs": [
    {
     "name": "stdout",
     "output_type": "stream",
     "text": [
      "Translated file saved as: ./translated_agentchat_auto_feedback_from_code_execution.ipynb\n",
      "Translated file saved as: ./translated_agentchat_chess.ipynb\n",
      "Translated file saved as: ./translated_agentchat_function_call.ipynb\n",
      "Translated file saved as: ./translated_agentchat_groupchat.ipynb\n",
      "Translated file saved as: ./translated_agentchat_groupchat_RAG.ipynb\n",
      "Translated file saved as: ./translated_agentchat_groupchat_research.ipynb\n",
      "Translated file saved as: ./translated_agentchat_groupchat_vis.ipynb\n",
      "Translated file saved as: ./translated_agentchat_human_feedback.ipynb\n",
      "Translated file saved as: ./translated_agentchat_langchain.ipynb\n",
      "Translated file saved as: ./translated_agentchat_MathChat.ipynb\n",
      "Translated file saved as: ./translated_agentchat_planning.ipynb\n",
      "Translated file saved as: ./translated_agentchat_RetrieveChat.ipynb\n",
      "Translated file saved as: ./translated_agentchat_stream.ipynb\n",
      "Translated file saved as: ./translated_agentchat_teachability.ipynb\n",
      "Translated file saved as: ./translated_agentchat_teaching.ipynb\n",
      "Translated file saved as: ./translated_agentchat_two_users.ipynb\n",
      "Translated file saved as: ./translated_agentchat_web_info.ipynb\n"
     ]
    },
    {
     "ename": "NotJSONError",
     "evalue": "Notebook does not appear to be JSON: ''",
     "output_type": "error",
     "traceback": [
      "\u001b[1;31m---------------------------------------------------------------------------\u001b[0m",
      "\u001b[1;31mJSONDecodeError\u001b[0m                           Traceback (most recent call last)",
      "File \u001b[1;32mc:\\Users\\한준구\\AppData\\Local\\Programs\\Python\\Python311\\Lib\\site-packages\\nbformat\\reader.py:20\u001b[0m, in \u001b[0;36mparse_json\u001b[1;34m(s, **kwargs)\u001b[0m\n\u001b[0;32m     19\u001b[0m \u001b[39mtry\u001b[39;00m:\n\u001b[1;32m---> 20\u001b[0m     nb_dict \u001b[39m=\u001b[39m json\u001b[39m.\u001b[39;49mloads(s, \u001b[39m*\u001b[39;49m\u001b[39m*\u001b[39;49mkwargs)\n\u001b[0;32m     21\u001b[0m \u001b[39mexcept\u001b[39;00m \u001b[39mValueError\u001b[39;00m \u001b[39mas\u001b[39;00m e:\n",
      "File \u001b[1;32mc:\\Users\\한준구\\AppData\\Local\\Programs\\Python\\Python311\\Lib\\json\\__init__.py:346\u001b[0m, in \u001b[0;36mloads\u001b[1;34m(s, cls, object_hook, parse_float, parse_int, parse_constant, object_pairs_hook, **kw)\u001b[0m\n\u001b[0;32m    343\u001b[0m \u001b[39mif\u001b[39;00m (\u001b[39mcls\u001b[39m \u001b[39mis\u001b[39;00m \u001b[39mNone\u001b[39;00m \u001b[39mand\u001b[39;00m object_hook \u001b[39mis\u001b[39;00m \u001b[39mNone\u001b[39;00m \u001b[39mand\u001b[39;00m\n\u001b[0;32m    344\u001b[0m         parse_int \u001b[39mis\u001b[39;00m \u001b[39mNone\u001b[39;00m \u001b[39mand\u001b[39;00m parse_float \u001b[39mis\u001b[39;00m \u001b[39mNone\u001b[39;00m \u001b[39mand\u001b[39;00m\n\u001b[0;32m    345\u001b[0m         parse_constant \u001b[39mis\u001b[39;00m \u001b[39mNone\u001b[39;00m \u001b[39mand\u001b[39;00m object_pairs_hook \u001b[39mis\u001b[39;00m \u001b[39mNone\u001b[39;00m \u001b[39mand\u001b[39;00m \u001b[39mnot\u001b[39;00m kw):\n\u001b[1;32m--> 346\u001b[0m     \u001b[39mreturn\u001b[39;00m _default_decoder\u001b[39m.\u001b[39;49mdecode(s)\n\u001b[0;32m    347\u001b[0m \u001b[39mif\u001b[39;00m \u001b[39mcls\u001b[39m \u001b[39mis\u001b[39;00m \u001b[39mNone\u001b[39;00m:\n",
      "File \u001b[1;32mc:\\Users\\한준구\\AppData\\Local\\Programs\\Python\\Python311\\Lib\\json\\decoder.py:337\u001b[0m, in \u001b[0;36mJSONDecoder.decode\u001b[1;34m(self, s, _w)\u001b[0m\n\u001b[0;32m    333\u001b[0m \u001b[39m\u001b[39m\u001b[39m\"\"\"Return the Python representation of ``s`` (a ``str`` instance\u001b[39;00m\n\u001b[0;32m    334\u001b[0m \u001b[39mcontaining a JSON document).\u001b[39;00m\n\u001b[0;32m    335\u001b[0m \n\u001b[0;32m    336\u001b[0m \u001b[39m\"\"\"\u001b[39;00m\n\u001b[1;32m--> 337\u001b[0m obj, end \u001b[39m=\u001b[39m \u001b[39mself\u001b[39;49m\u001b[39m.\u001b[39;49mraw_decode(s, idx\u001b[39m=\u001b[39;49m_w(s, \u001b[39m0\u001b[39;49m)\u001b[39m.\u001b[39;49mend())\n\u001b[0;32m    338\u001b[0m end \u001b[39m=\u001b[39m _w(s, end)\u001b[39m.\u001b[39mend()\n",
      "File \u001b[1;32mc:\\Users\\한준구\\AppData\\Local\\Programs\\Python\\Python311\\Lib\\json\\decoder.py:355\u001b[0m, in \u001b[0;36mJSONDecoder.raw_decode\u001b[1;34m(self, s, idx)\u001b[0m\n\u001b[0;32m    354\u001b[0m \u001b[39mexcept\u001b[39;00m \u001b[39mStopIteration\u001b[39;00m \u001b[39mas\u001b[39;00m err:\n\u001b[1;32m--> 355\u001b[0m     \u001b[39mraise\u001b[39;00m JSONDecodeError(\u001b[39m\"\u001b[39m\u001b[39mExpecting value\u001b[39m\u001b[39m\"\u001b[39m, s, err\u001b[39m.\u001b[39mvalue) \u001b[39mfrom\u001b[39;00m \u001b[39mNone\u001b[39;00m\n\u001b[0;32m    356\u001b[0m \u001b[39mreturn\u001b[39;00m obj, end\n",
      "\u001b[1;31mJSONDecodeError\u001b[0m: Expecting value: line 1 column 1 (char 0)",
      "\nThe above exception was the direct cause of the following exception:\n",
      "\u001b[1;31mNotJSONError\u001b[0m                              Traceback (most recent call last)",
      "\u001b[1;32md:\\autogen_ko\\notebook\\notebook\\main.ipynb 셀 1\u001b[0m line \u001b[0;36m2\n\u001b[0;32m     <a href='vscode-notebook-cell:/d%3A/autogen_ko/notebook/notebook/main.ipynb#W0sZmlsZQ%3D%3D?line=22'>23</a>\u001b[0m file_path \u001b[39m=\u001b[39m os\u001b[39m.\u001b[39mpath\u001b[39m.\u001b[39mjoin(folder_path, filename)\n\u001b[0;32m     <a href='vscode-notebook-cell:/d%3A/autogen_ko/notebook/notebook/main.ipynb#W0sZmlsZQ%3D%3D?line=23'>24</a>\u001b[0m \u001b[39mwith\u001b[39;00m \u001b[39mopen\u001b[39m(file_path, \u001b[39m\"\u001b[39m\u001b[39mr\u001b[39m\u001b[39m\"\u001b[39m, encoding\u001b[39m=\u001b[39m\u001b[39m'\u001b[39m\u001b[39mutf-8\u001b[39m\u001b[39m'\u001b[39m) \u001b[39mas\u001b[39;00m file:\n\u001b[1;32m---> <a href='vscode-notebook-cell:/d%3A/autogen_ko/notebook/notebook/main.ipynb#W0sZmlsZQ%3D%3D?line=24'>25</a>\u001b[0m     notebook \u001b[39m=\u001b[39m nbformat\u001b[39m.\u001b[39;49mread(file, as_version\u001b[39m=\u001b[39;49mnbformat\u001b[39m.\u001b[39;49mNO_CONVERT)\n\u001b[0;32m     <a href='vscode-notebook-cell:/d%3A/autogen_ko/notebook/notebook/main.ipynb#W0sZmlsZQ%3D%3D?line=26'>27</a>\u001b[0m \u001b[39m# 각 셀을 순회하며 텍스트 셀을 찾고 번역합니다.\u001b[39;00m\n\u001b[0;32m     <a href='vscode-notebook-cell:/d%3A/autogen_ko/notebook/notebook/main.ipynb#W0sZmlsZQ%3D%3D?line=27'>28</a>\u001b[0m \u001b[39mfor\u001b[39;00m cell \u001b[39min\u001b[39;00m notebook\u001b[39m.\u001b[39mcells:\n",
      "File \u001b[1;32mc:\\Users\\한준구\\AppData\\Local\\Programs\\Python\\Python311\\Lib\\site-packages\\nbformat\\__init__.py:171\u001b[0m, in \u001b[0;36mread\u001b[1;34m(fp, as_version, capture_validation_error, **kwargs)\u001b[0m\n\u001b[0;32m    168\u001b[0m     \u001b[39mwith\u001b[39;00m \u001b[39mopen\u001b[39m(fp, encoding\u001b[39m=\u001b[39m\u001b[39m\"\u001b[39m\u001b[39mutf-8\u001b[39m\u001b[39m\"\u001b[39m) \u001b[39mas\u001b[39;00m f:\n\u001b[0;32m    169\u001b[0m         \u001b[39mreturn\u001b[39;00m reads(f\u001b[39m.\u001b[39mread(), as_version, capture_validation_error, \u001b[39m*\u001b[39m\u001b[39m*\u001b[39mkwargs)\n\u001b[1;32m--> 171\u001b[0m \u001b[39mreturn\u001b[39;00m reads(buf, as_version, capture_validation_error, \u001b[39m*\u001b[39;49m\u001b[39m*\u001b[39;49mkwargs)\n",
      "File \u001b[1;32mc:\\Users\\한준구\\AppData\\Local\\Programs\\Python\\Python311\\Lib\\site-packages\\nbformat\\__init__.py:89\u001b[0m, in \u001b[0;36mreads\u001b[1;34m(s, as_version, capture_validation_error, **kwargs)\u001b[0m\n\u001b[0;32m     63\u001b[0m \u001b[39mdef\u001b[39;00m \u001b[39mreads\u001b[39m(s, as_version, capture_validation_error\u001b[39m=\u001b[39m\u001b[39mNone\u001b[39;00m, \u001b[39m*\u001b[39m\u001b[39m*\u001b[39mkwargs):\n\u001b[0;32m     64\u001b[0m \u001b[39m    \u001b[39m\u001b[39m\"\"\"Read a notebook from a string and return the NotebookNode object as the given version.\u001b[39;00m\n\u001b[0;32m     65\u001b[0m \n\u001b[0;32m     66\u001b[0m \u001b[39m    The string can contain a notebook of any version.\u001b[39;00m\n\u001b[1;32m   (...)\u001b[0m\n\u001b[0;32m     87\u001b[0m \u001b[39m        The notebook that was read.\u001b[39;00m\n\u001b[0;32m     88\u001b[0m \u001b[39m    \"\"\"\u001b[39;00m\n\u001b[1;32m---> 89\u001b[0m     nb \u001b[39m=\u001b[39m reader\u001b[39m.\u001b[39;49mreads(s, \u001b[39m*\u001b[39;49m\u001b[39m*\u001b[39;49mkwargs)\n\u001b[0;32m     90\u001b[0m     \u001b[39mif\u001b[39;00m as_version \u001b[39mis\u001b[39;00m \u001b[39mnot\u001b[39;00m NO_CONVERT:\n\u001b[0;32m     91\u001b[0m         nb \u001b[39m=\u001b[39m convert(nb, as_version)\n",
      "File \u001b[1;32mc:\\Users\\한준구\\AppData\\Local\\Programs\\Python\\Python311\\Lib\\site-packages\\nbformat\\reader.py:76\u001b[0m, in \u001b[0;36mreads\u001b[1;34m(s, **kwargs)\u001b[0m\n\u001b[0;32m     51\u001b[0m \u001b[39m\u001b[39m\u001b[39m\"\"\"Read a notebook from a json string and return the\u001b[39;00m\n\u001b[0;32m     52\u001b[0m \u001b[39mNotebookNode object.\u001b[39;00m\n\u001b[0;32m     53\u001b[0m \n\u001b[1;32m   (...)\u001b[0m\n\u001b[0;32m     72\u001b[0m \u001b[39m    Specified major version is invalid or unsupported.\u001b[39;00m\n\u001b[0;32m     73\u001b[0m \u001b[39m\"\"\"\u001b[39;00m\n\u001b[0;32m     74\u001b[0m \u001b[39mfrom\u001b[39;00m \u001b[39m.\u001b[39;00m \u001b[39mimport\u001b[39;00m NBFormatError, versions\n\u001b[1;32m---> 76\u001b[0m nb_dict \u001b[39m=\u001b[39m parse_json(s, \u001b[39m*\u001b[39;49m\u001b[39m*\u001b[39;49mkwargs)\n\u001b[0;32m     77\u001b[0m (major, minor) \u001b[39m=\u001b[39m get_version(nb_dict)\n\u001b[0;32m     78\u001b[0m \u001b[39mif\u001b[39;00m major \u001b[39min\u001b[39;00m versions:\n",
      "File \u001b[1;32mc:\\Users\\한준구\\AppData\\Local\\Programs\\Python\\Python311\\Lib\\site-packages\\nbformat\\reader.py:26\u001b[0m, in \u001b[0;36mparse_json\u001b[1;34m(s, **kwargs)\u001b[0m\n\u001b[0;32m     24\u001b[0m     \u001b[39mif\u001b[39;00m \u001b[39mlen\u001b[39m(message) \u001b[39m>\u001b[39m \u001b[39m80\u001b[39m:  \u001b[39m# noqa\u001b[39;00m\n\u001b[0;32m     25\u001b[0m         message \u001b[39m=\u001b[39m message[:\u001b[39m77\u001b[39m] \u001b[39m+\u001b[39m \u001b[39m\"\u001b[39m\u001b[39m...\u001b[39m\u001b[39m\"\u001b[39m\n\u001b[1;32m---> 26\u001b[0m     \u001b[39mraise\u001b[39;00m NotJSONError(message) \u001b[39mfrom\u001b[39;00m \u001b[39me\u001b[39;00m\n\u001b[0;32m     27\u001b[0m \u001b[39mreturn\u001b[39;00m nb_dict\n",
      "\u001b[1;31mNotJSONError\u001b[0m: Notebook does not appear to be JSON: ''"
     ]
    }
   ],
   "source": [
    "##폴더 내에 있는 모든 ipynb 파일을 읽어서 영어를 한글로 번역하는 코드입니다.\n",
    "\n",
    "import requests\n",
    "import json\n",
    "import os\n",
    "import nbformat\n",
    "\n",
    "# DeepL API를 사용하여 텍스트를 번역하는 함수\n",
    "def translate_text(text, target_language):\n",
    "    url = \"https://api-free.deepl.com/v2/translate\"\n",
    "    data = {\n",
    "        \"auth_key\": \"df9768e4-55ff-cbf7-e98e-82f1c68439c8:fx\",\n",
    "        \"text\": text,\n",
    "        \"target_lang\": target_language,\n",
    "    }\n",
    "    response = requests.post(url, data=data)\n",
    "    return json.loads(response.text)['translations'][0]['text']\n",
    "\n",
    "# 지정된 폴더에서 모든 .ipynb 파일을 찾습니다.\n",
    "folder_path = './'\n",
    "ipynb_files = [f for f in os.listdir(folder_path) if f.endswith('.ipynb')]\n",
    "\n",
    "# 찾은 각 .ipynb 파일에 대해 작업을 수행합니다.\n",
    "for filename in ipynb_files:\n",
    "    file_path = os.path.join(folder_path, filename)\n",
    "    with open(file_path, \"r\", encoding='utf-8') as file:\n",
    "        notebook = nbformat.read(file, as_version=nbformat.NO_CONVERT)\n",
    "\n",
    "    # 각 셀을 순회하며 텍스트 셀을 찾고 번역합니다.\n",
    "    for cell in notebook.cells:\n",
    "        if cell.cell_type == \"markdown\":\n",
    "            # 텍스트 셀의 내용을 번역합니다.\n",
    "            translated_text = translate_text(cell.source, target_language='KO')\n",
    "            cell.source = translated_text  # 번역된 텍스트로 셀 내용을 업데이트합니다.\n",
    "\n",
    "    # 번역된 내용으로 새 파일을 저장합니다.\n",
    "    translated_filename = 'translated_' + filename\n",
    "    translated_file_path = os.path.join(folder_path, translated_filename)\n",
    "    with open(translated_file_path, \"w\", encoding='utf-8') as file:\n",
    "        nbformat.write(notebook, file)\n",
    "\n",
    "    print(f'Translated file saved as: {translated_file_path}')\n"
   ]
  },
  {
   "cell_type": "code",
   "execution_count": 6,
   "metadata": {},
   "outputs": [
    {
     "name": "stdout",
     "output_type": "stream",
     "text": [
      "Translated file saved as: translated_oai_openai_utils.ipynb\n"
     ]
    }
   ],
   "source": [
    "## 특정 파일을 업로드하여 번역하는 코드입니다.\n",
    "import nbformat\n",
    "import requests\n",
    "import json\n",
    "\n",
    "\n",
    "# DeepL API를 사용하여 텍스트를 번역하는 함수\n",
    "def translate_text(text, target_language):\n",
    "    url = \"https://api-free.deepl.com/v2/translate\"\n",
    "    data = {\n",
    "        \"auth_key\": \"df9768e4-55ff-cbf7-e98e-82f1c68439c8:fx\",\n",
    "        \"text\": text,\n",
    "        \"target_lang\": target_language,\n",
    "    }\n",
    "    response = requests.post(url, data=data)\n",
    "    return json.loads(response.text)['translations'][0]['text']\n",
    "\n",
    "# 파일경로 직접 지정하기\n",
    "filename = 'oai_openai_utils.ipynb'\n",
    "\n",
    "# 파일을 읽어서 노트북 객체로 변환합니다.\n",
    "with open(filename, \"r\", encoding='utf-8') as file:\n",
    "    notebook = nbformat.read(file, as_version=nbformat.NO_CONVERT)\n",
    "\n",
    "\n",
    "# 각 셀을 순회하며 텍스트 셀을 찾고 번역합니다.\n",
    "for cell in notebook.cells:\n",
    "    if cell.cell_type == \"markdown\":\n",
    "        # 텍스트 셀의 내용을 번역합니다.\n",
    "        translated_text = translate_text(cell.source, target_language='KO')\n",
    "        cell.source = translated_text  # 번역된 텍스트로 셀 내용을 업데이트합니다.\n",
    "\n",
    "# 번역된 내용으로 새 파일을 저장합니다.\n",
    "translated_filename = 'translated_' + filename\n",
    "with open(translated_filename, \"w\", encoding='utf-8') as file:\n",
    "    nbformat.write(notebook, file)\n",
    "\n",
    "# 파일이 저장된 위치를 출력합니다. (선택 사항)\n",
    "print(f'Translated file saved as: {translated_filename}')\n"
   ]
  }
 ],
 "metadata": {
  "kernelspec": {
   "display_name": "Python 3",
   "language": "python",
   "name": "python3"
  },
  "language_info": {
   "codemirror_mode": {
    "name": "ipython",
    "version": 3
   },
   "file_extension": ".py",
   "mimetype": "text/x-python",
   "name": "python",
   "nbconvert_exporter": "python",
   "pygments_lexer": "ipython3",
   "version": "3.11.5"
  }
 },
 "nbformat": 4,
 "nbformat_minor": 2
}
